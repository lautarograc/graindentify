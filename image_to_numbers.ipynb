{
 "cells": [
  {
   "cell_type": "code",
   "execution_count": 8,
   "source": [
    "import numpy as np\r\n",
    "from PIL import Image\r\n",
    "from pathlib import Path\r\n",
    "import os\r\n",
    "import sys\r\n",
    "import glob\r\n",
    "import cv2\r\n",
    "from matplotlib import pyplot as pyplot\r\n",
    "import random\r\n",
    "import pickle\r\n",
    "import shutil\r\n",
    "import tensorflow as tf\r\n",
    "from tensorflow import keras\r\n"
   ],
   "outputs": [],
   "metadata": {}
  },
  {
   "cell_type": "code",
   "execution_count": 9,
   "source": [
    "#I'll create a loop to convert every .jpg in every folder to a numeric array using Numpy\r\n",
    "#First, I'll rename every datapoint to the format \"Barley1,n\"\r\n",
    "\r\n",
    "ext = ('.jpg')\r\n",
    "directory = 'C:/Users/Lautarog/Documents/GRAINDENTIFY/images/'\r\n",
    "\r\n",
    "def file_rename():\r\n",
    "    count = 1\r\n",
    "    for files in os.listdir(directory):\r\n",
    "        source = directory + files\r\n",
    "        destination = directory + \"wheat_grain\" + str(count) + ext\r\n",
    "        os.rename(source, destination)\r\n",
    "        count += 1\r\n",
    "\r\n",
    "\r\n"
   ],
   "outputs": [],
   "metadata": {}
  },
  {
   "cell_type": "code",
   "execution_count": 10,
   "source": [
    "#Create lists for every type of grain intended for use in the CNN\r\n",
    "wheat_grain = os.listdir(directory + 'wheat_grain')\r\n",
    "rye_grain = os.listdir(directory + 'rye_grain')\r\n",
    "rice_grain = os.listdir(directory + 'rice_grain')\r\n",
    "oats_grain = os.listdir(directory + 'oats')\r\n",
    "millet_grain = os.listdir(directory + 'millet_cereal')\r\n",
    "barley_grain = os.listdir(directory + 'barley')"
   ],
   "outputs": [],
   "metadata": {}
  },
  {
   "cell_type": "code",
   "execution_count": 11,
   "source": [
    "#Resize every image to equal dimension (I'll use the standard 224x224)\r\n",
    "\r\n",
    "def resize():\r\n",
    "    for files in wheat_grain:\r\n",
    "        if files.endswith(ext):\r\n",
    "            im = Image.open(directory+'wheat_grain/'+files)\r\n",
    "            f, e = os.path.splitext(directory+'wheat_grain/'+files)\r\n",
    "            imResize = im.resize((224,224), Image.ANTIALIAS)\r\n",
    "            imResize.save(f + ' resized.jpg', 'JPEG', quality=90)"
   ],
   "outputs": [],
   "metadata": {}
  },
  {
   "cell_type": "code",
   "execution_count": 12,
   "source": [
    "#Create a new directory and then move every resized image there\r\n",
    "def newsizedir():\r\n",
    "    for files in wheat_grain:\r\n",
    "        with Image.open(directory + 'wheat_grain/' + files) as img:\r\n",
    "            width, height = img.size\r\n",
    "        totalsize = width * height\r\n",
    "        if totalsize == 50176:\r\n",
    "            img.close()\r\n",
    "            os.rename(directory + 'wheat_grain/' + files, directory + 'wheat_grain_resized/' + files)\r\n",
    "\r\n"
   ],
   "outputs": [],
   "metadata": {}
  },
  {
   "cell_type": "code",
   "execution_count": 13,
   "source": [
    "#I'm going to create a new list for every grain type image with the desired dimension (PHASED OUT!!!)\r\n",
    "#wheat_grain_resized = os.listdir(directory + 'resized_images/wheat_grain_resized')\r\n",
    "#rye_grain_resized = os.listdir(directory + 'rye_grain_resized')\r\n",
    "#rice_grain_resized = os.listdir(directory + 'rice_grain_resized')\r\n",
    "#oats_grain_resized = os.listdir(directory + 'oats_resized')\r\n",
    "#millet_grain_resized = os.listdir(directory + 'millet_cereal_resized')\r\n",
    "#barley_grain_resized = os.listdir(directory + 'barley_resized')"
   ],
   "outputs": [],
   "metadata": {}
  },
  {
   "cell_type": "code",
   "execution_count": 14,
   "source": [
    "#Vectorize every image\r\n",
    "DATADIR = \"C:/Users/Lautarog/Documents/GRAINDENTIFY/images/resized_images/\"\r\n",
    "CATEGORIES =['wheat_grain_resized', 'oats_resized', 'millet_cereal_resized', 'barley_resized', 'rice_grain_resized', 'rye_grain_resized']\r\n",
    "IMG_SIZE = 90\r\n",
    "for category in CATEGORIES :\r\n",
    "    path = os.path.join(DATADIR, category)\r\n",
    "    for img in os.listdir(path):\r\n",
    "        img_array = cv2.imread(os.path.join(path,img), cv2.IMREAD_COLOR)\r\n",
    "\r\n",
    "training_data = []\r\n",
    "def create_training_data():\r\n",
    "\tfor category in CATEGORIES :\r\n",
    "\t\tpath = os.path.join(DATADIR, category)\r\n",
    "\t\tclass_num = CATEGORIES.index(category)\r\n",
    "\t\tfor img in os.listdir(path):\r\n",
    "\t\t\ttry :\r\n",
    "\t\t\t\timg_array = cv2.imread(os.path.join(path, img), cv2.IMREAD_COLOR)\r\n",
    "\t\t\t\tnew_array = cv2.resize(img_array, (IMG_SIZE, IMG_SIZE))\r\n",
    "\t\t\t\ttraining_data.append([new_array, class_num])\r\n",
    "\t\t\texcept Exception as e:\r\n",
    "\t\t\t\tpass\r\n",
    "create_training_data()\r\n",
    "\r\n",
    "random.shuffle(training_data)\r\n",
    "\r\n",
    "X = [] #features\r\n",
    "y = [] #labels\r\n",
    "\r\n",
    "for features, label in training_data:\r\n",
    "\tX.append(features)\r\n",
    "\ty.append(label)\r\n",
    "\r\n",
    "X = np.array(X).reshape(-1, IMG_SIZE, IMG_SIZE, 1)\r\n",
    "\r\n",
    "pickle_out = open(\"X.pickle\", \"wb\")\r\n",
    "pickle.dump(X, pickle_out)\r\n",
    "pickle_out.close()\r\n",
    "\r\n",
    "pickle_out = open(\"y.pickle\", \"wb\")\r\n",
    "pickle.dump(y, pickle_out)\r\n",
    "pickle_out.close()\r\n",
    "\r\n",
    "pickle_in = open(\"X.pickle\", \"rb\")\r\n",
    "X = pickle.load(pickle_in)\r\n"
   ],
   "outputs": [
    {
     "output_type": "error",
     "ename": "TypeError",
     "evalue": "file must have 'read' and 'readline' attributes",
     "traceback": [
      "\u001b[1;31m---------------------------------------------------------------------------\u001b[0m",
      "\u001b[1;31mTypeError\u001b[0m                                 Traceback (most recent call last)",
      "\u001b[1;32m<ipython-input-14-9a1e031bd3cd>\u001b[0m in \u001b[0;36m<module>\u001b[1;34m\u001b[0m\n\u001b[0;32m     44\u001b[0m \u001b[0mX\u001b[0m \u001b[1;33m=\u001b[0m \u001b[0mpickle\u001b[0m\u001b[1;33m.\u001b[0m\u001b[0mload\u001b[0m\u001b[1;33m(\u001b[0m\u001b[0mpickle_in\u001b[0m\u001b[1;33m)\u001b[0m\u001b[1;33m\u001b[0m\u001b[1;33m\u001b[0m\u001b[0m\n\u001b[0;32m     45\u001b[0m \u001b[1;33m\u001b[0m\u001b[0m\n\u001b[1;32m---> 46\u001b[1;33m \u001b[0mpickle\u001b[0m\u001b[1;33m.\u001b[0m\u001b[0mload\u001b[0m\u001b[1;33m(\u001b[0m\u001b[0mX\u001b[0m\u001b[1;33m)\u001b[0m\u001b[1;33m\u001b[0m\u001b[1;33m\u001b[0m\u001b[0m\n\u001b[0m",
      "\u001b[1;31mTypeError\u001b[0m: file must have 'read' and 'readline' attributes"
     ]
    }
   ],
   "metadata": {}
  }
 ],
 "metadata": {
  "orig_nbformat": 4,
  "language_info": {
   "name": "python",
   "version": "3.9.4",
   "mimetype": "text/x-python",
   "codemirror_mode": {
    "name": "ipython",
    "version": 3
   },
   "pygments_lexer": "ipython3",
   "nbconvert_exporter": "python",
   "file_extension": ".py"
  },
  "kernelspec": {
   "name": "python3",
   "display_name": "Python 3.9.4 64-bit"
  },
  "interpreter": {
   "hash": "63fd5069d213b44bf678585dea6b12cceca9941eaf7f819626cde1f2670de90d"
  }
 },
 "nbformat": 4,
 "nbformat_minor": 2
}