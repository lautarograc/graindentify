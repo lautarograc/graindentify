{
 "cells": [
  {
   "cell_type": "code",
   "execution_count": 44,
   "source": [
    "import numpy as np\r\n",
    "from PIL import Image\r\n",
    "from pathlib import Path\r\n",
    "import os\r\n",
    "import sys\r\n",
    "import shutil"
   ],
   "outputs": [],
   "metadata": {}
  },
  {
   "cell_type": "code",
   "execution_count": 45,
   "source": [
    "#I'll create a loop to convert every .jpg in every folder to a numeric array using Numpy\r\n",
    "#First, I'll rename every datapoint to the format \"Barley1,n\"\r\n",
    "\r\n",
    "ext = ('.jpg')\r\n",
    "directory = 'C:/Users/Lautarog/Documents/GRAINDENTIFY/images/'\r\n",
    "\r\n",
    "def file_rename():\r\n",
    "    count = 1\r\n",
    "    for files in os.listdir(directory):\r\n",
    "        source = directory + files\r\n",
    "        destination = directory + \"wheat_grain\" + str(count) + ext\r\n",
    "        os.rename(source, destination)\r\n",
    "        count += 1\r\n",
    "\r\n",
    "\r\n"
   ],
   "outputs": [],
   "metadata": {}
  },
  {
   "cell_type": "code",
   "execution_count": 59,
   "source": [
    "#Create lists for every type of grain intended for use in the CNN\r\n",
    "wheat_grain = os.listdir(directory + 'wheat_grain')\r\n",
    "rye_grain = os.listdir(directory + 'rye_grain')\r\n",
    "rice_grain = os.listdir(directory + 'rice_grain')\r\n",
    "oats_grain = os.listdir(directory + 'oats')\r\n",
    "millet_grain = os.listdir(directory + 'millet_cereal')\r\n",
    "barley_grain = os.listdir(directory + 'barley')"
   ],
   "outputs": [],
   "metadata": {}
  },
  {
   "cell_type": "code",
   "execution_count": 58,
   "source": [
    "#Resize every image to equal dimension (I'll use the standard 224x224)\r\n",
    "\r\n",
    "def resize():\r\n",
    "    for files in wheat_grain:\r\n",
    "        if files.endswith(ext):\r\n",
    "            im = Image.open(directory+'wheat_grain/'+files)\r\n",
    "            f, e = os.path.splitext(directory+'wheat_grain/'+files)\r\n",
    "            imResize = im.resize((224,224), Image.ANTIALIAS)\r\n",
    "            imResize.save(f + ' resized.jpg', 'JPEG', quality=90)"
   ],
   "outputs": [],
   "metadata": {}
  },
  {
   "cell_type": "code",
   "execution_count": 60,
   "source": [
    "#Create a new directory and then move every resized image there\r\n",
    "def newsizedir():\r\n",
    "    for files in wheat_grain:\r\n",
    "        with Image.open(directory + 'wheat_grain/' + files) as img:\r\n",
    "            width, height = img.size\r\n",
    "        totalsize = width * height\r\n",
    "        if totalsize == 50176:\r\n",
    "            img.close()\r\n",
    "            os.rename(directory + 'wheat_grain/' + files, directory + 'wheat_grain_resized/' + files)\r\n",
    "\r\n",
    "\r\n",
    "newsizedir()"
   ],
   "outputs": [],
   "metadata": {}
  }
 ],
 "metadata": {
  "orig_nbformat": 4,
  "language_info": {
   "name": "python",
   "version": "3.9.4",
   "mimetype": "text/x-python",
   "codemirror_mode": {
    "name": "ipython",
    "version": 3
   },
   "pygments_lexer": "ipython3",
   "nbconvert_exporter": "python",
   "file_extension": ".py"
  },
  "kernelspec": {
   "name": "python3",
   "display_name": "Python 3.9.4 64-bit"
  },
  "interpreter": {
   "hash": "63fd5069d213b44bf678585dea6b12cceca9941eaf7f819626cde1f2670de90d"
  }
 },
 "nbformat": 4,
 "nbformat_minor": 2
}