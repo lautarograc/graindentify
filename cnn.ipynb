{
  "nbformat": 4,
  "nbformat_minor": 0,
  "metadata": {
    "orig_nbformat": 4,
    "language_info": {
      "name": "python",
      "version": "3.9.4",
      "mimetype": "text/x-python",
      "codemirror_mode": {
        "name": "ipython",
        "version": 3
      },
      "pygments_lexer": "ipython3",
      "nbconvert_exporter": "python",
      "file_extension": ".py"
    },
    "kernelspec": {
      "name": "python3",
      "display_name": "Python 3.9.4 64-bit"
    },
    "interpreter": {
      "hash": "63fd5069d213b44bf678585dea6b12cceca9941eaf7f819626cde1f2670de90d"
    },
    "colab": {
      "name": "cnn.ipynb",
      "provenance": [],
      "collapsed_sections": []
    },
    "accelerator": "GPU"
  },
  "cells": [
    {
      "cell_type": "code",
      "metadata": {
        "id": "8-MwgLJn93dV"
      },
      "source": [
        "from google.colab import drive\n",
        "import matplotlib.pyplot as plt\n",
        "import numpy as np\n",
        "import os\n",
        "import PIL\n",
        "import tensorflow as tf\n",
        "\n",
        "from tensorflow import keras\n",
        "from tensorflow.keras import layers\n",
        "from tensorflow.keras.models import Sequential\n",
        "from tkinter import Tk\n",
        "from tkinter.filedialog import askdirectory\n",
        "\n",
        "import pathlib\n",
        "\n"
      ],
      "execution_count": 2,
      "outputs": []
    },
    {
      "cell_type": "code",
      "metadata": {
        "colab": {
          "base_uri": "https://localhost:8080/"
        },
        "id": "FT3OTHLjAIOD",
        "outputId": "2eabb6fa-8cb1-4f5e-83c8-b4486509a22f"
      },
      "source": [
        "from google.colab import drive\n",
        "drive.mount('/content/drive')"
      ],
      "execution_count": null,
      "outputs": [
        {
          "output_type": "stream",
          "text": [
            "Drive already mounted at /content/drive; to attempt to forcibly remount, call drive.mount(\"/content/drive\", force_remount=True).\n"
          ],
          "name": "stdout"
        }
      ]
    },
    {
      "cell_type": "code",
      "metadata": {
        "id": "6TzeHtyA93db"
      },
      "source": [
        "\n",
        "batch_size = 32\n",
        "image_size = 224, 224\n"
      ],
      "execution_count": null,
      "outputs": []
    },
    {
      "cell_type": "code",
      "metadata": {
        "id": "6HKm3vmR93dd",
        "colab": {
          "base_uri": "https://localhost:8080/"
        },
        "outputId": "184f05c8-b1a6-45f8-83a9-2416605d55e6"
      },
      "source": [
        "train_ds = tf.keras.preprocessing.image_dataset_from_directory(\n",
        "    directory = '/content/drive/MyDrive/resized_images',\n",
        "    validation_split=0.2,\n",
        "    subset='training',\n",
        "    seed=1337,\n",
        "    batch_size=batch_size,\n",
        "    image_size=image_size\n",
        ")\n",
        "\n",
        "val_ds = tf.keras.preprocessing.image_dataset_from_directory(\n",
        "    directory = '/content/drive/MyDrive/resized_images',\n",
        "    validation_split=0.2,\n",
        "    subset='validation',\n",
        "    seed=1337,\n",
        "    batch_size=batch_size,\n",
        "    image_size=image_size\n",
        ")\n",
        "\n",
        "\n"
      ],
      "execution_count": null,
      "outputs": [
        {
          "output_type": "stream",
          "text": [
            "Found 197 files belonging to 2 classes.\n",
            "Using 158 files for training.\n",
            "Found 197 files belonging to 2 classes.\n",
            "Using 39 files for validation.\n"
          ],
          "name": "stdout"
        }
      ]
    },
    {
      "cell_type": "code",
      "metadata": {
        "id": "-mFAho4T93dg"
      },
      "source": [
        "#Data augmentation (why should I use it?)\n",
        "data_augmentation = keras.Sequential(\n",
        "    [\n",
        "        layers.experimental.preprocessing.RandomFlip(\"horizontal\"),\n",
        "        layers.experimental.preprocessing.RandomRotation(0.1),\n",
        "    ]\n",
        ")\n"
      ],
      "execution_count": null,
      "outputs": []
    },
    {
      "cell_type": "code",
      "metadata": {
        "id": "ra-gXPjZ93di"
      },
      "source": [
        "#xception model\n",
        "def make_model(input_shape, num_classes):\n",
        "    inputs = keras.Input(shape=input_shape)\n",
        "    x = data_augmentation(inputs)\n",
        "    #rescale\n",
        "    x = layers.experimental.preprocessing.Rescaling(1./255)(x)\n",
        "    x = layers.Conv2D(32, 3, strides=2, padding=\"same\")(x)\n",
        "    x = layers.BatchNormalization()(x)\n",
        "    x = layers.Activation(\"relu\")(x)\n",
        "\n",
        "    x = layers.Conv2D(64, 3, padding=\"same\")(x)\n",
        "    x = layers.BatchNormalization()(x)\n",
        "    x = layers.Activation(\"relu\")(x)\n",
        "\n",
        "    previous_block_activation = x\n",
        "\n",
        "    for size in [128, 256, 512, 728]:\n",
        "        x = layers.Activation(\"relu\")(x)\n",
        "        x = layers.SeparableConv2D(size, 3, padding=\"same\")(x)\n",
        "        x = layers.BatchNormalization()(x)\n",
        "\n",
        "        x = layers.Activation(\"relu\")(x)\n",
        "        x = layers.SeparableConv2D(size, 3, padding=\"same\")(x)\n",
        "        x = layers.BatchNormalization()(x)\n",
        "\n",
        "        x = layers.MaxPooling2D(3, strides=2, padding=\"same\")(x)\n",
        "\n",
        "        \n",
        "        residual = layers.Conv2D(size, 1, strides=2, padding=\"same\")(\n",
        "            previous_block_activation\n",
        "        )\n",
        "        x = layers.add([x, residual]) \n",
        "        previous_block_activation = x \n",
        "\n",
        "    x = layers.SeparableConv2D(1024, 3, padding=\"same\")(x)\n",
        "    x = layers.BatchNormalization()(x)\n",
        "    x = layers.Activation(\"relu\")(x)\n",
        "\n",
        "    x = layers.GlobalAveragePooling2D()(x)\n",
        "    if num_classes == 2:\n",
        "        activation = \"sigmoid\"\n",
        "        units = 1\n",
        "    else:\n",
        "        activation = \"softmax\"\n",
        "        units = num_classes\n",
        "\n",
        "    x = layers.Dropout(0.5)(x)\n",
        "    outputs = layers.Dense(units, activation=activation)(x)\n",
        "    return keras.Model(inputs, outputs)\n",
        "\n",
        "model = make_model(input_shape=image_size + (3,), num_classes=2)\n",
        "keras.utils.plot_model(model, show_shapes=True)"
      ],
      "execution_count": null,
      "outputs": []
    },
    {
      "cell_type": "code",
      "metadata": {
        "id": "H68dHmMP93dj",
        "colab": {
          "base_uri": "https://localhost:8080/"
        },
        "outputId": "1ab09b72-dcd2-4def-f1c2-f6370c08ebaf"
      },
      "source": [
        "epochs = 50\n",
        "\n",
        "callbacks = [\n",
        "    keras.callbacks.ModelCheckpoint(\"save_at_{epoch}.h5\"),\n",
        "]\n",
        "model.compile(\n",
        "    optimizer=keras.optimizers.Adam(1e-3),\n",
        "    loss=\"binary_crossentropy\",\n",
        "    metrics=[\"accuracy\"],\n",
        ")\n",
        "model.fit(\n",
        "    train_ds, epochs=epochs, callbacks=callbacks, validation_data=val_ds,\n",
        ")"
      ],
      "execution_count": null,
      "outputs": [
        {
          "output_type": "stream",
          "text": [
            "Epoch 1/50\n",
            "5/5 [==============================] - 32s 2s/step - loss: 0.7972 - accuracy: 0.6646 - val_loss: 0.6934 - val_accuracy: 0.4872\n"
          ],
          "name": "stdout"
        },
        {
          "output_type": "stream",
          "text": [
            "/usr/local/lib/python3.7/dist-packages/tensorflow/python/keras/utils/generic_utils.py:497: CustomMaskWarning: Custom mask layers require a config and must override get_config. When loading, the custom mask layer must be passed to the custom_objects argument.\n",
            "  category=CustomMaskWarning)\n"
          ],
          "name": "stderr"
        },
        {
          "output_type": "stream",
          "text": [
            "Epoch 2/50\n",
            "5/5 [==============================] - 2s 391ms/step - loss: 0.5014 - accuracy: 0.8038 - val_loss: 0.6938 - val_accuracy: 0.4872\n",
            "Epoch 3/50\n",
            "5/5 [==============================] - 2s 391ms/step - loss: 0.4222 - accuracy: 0.7722 - val_loss: 0.6937 - val_accuracy: 0.4872\n",
            "Epoch 4/50\n",
            "5/5 [==============================] - 2s 385ms/step - loss: 0.3710 - accuracy: 0.8228 - val_loss: 0.6947 - val_accuracy: 0.4872\n",
            "Epoch 5/50\n",
            "5/5 [==============================] - 2s 402ms/step - loss: 0.3249 - accuracy: 0.8291 - val_loss: 0.6955 - val_accuracy: 0.4872\n",
            "Epoch 6/50\n",
            "5/5 [==============================] - 2s 407ms/step - loss: 0.3045 - accuracy: 0.8924 - val_loss: 0.6969 - val_accuracy: 0.4872\n",
            "Epoch 7/50\n",
            "5/5 [==============================] - 2s 397ms/step - loss: 0.2630 - accuracy: 0.8797 - val_loss: 0.6990 - val_accuracy: 0.4872\n",
            "Epoch 8/50\n",
            "5/5 [==============================] - 2s 391ms/step - loss: 0.4016 - accuracy: 0.8544 - val_loss: 0.6989 - val_accuracy: 0.4872\n",
            "Epoch 9/50\n",
            "5/5 [==============================] - 2s 386ms/step - loss: 0.2536 - accuracy: 0.8987 - val_loss: 0.7011 - val_accuracy: 0.4872\n",
            "Epoch 10/50\n",
            "5/5 [==============================] - 2s 398ms/step - loss: 0.2496 - accuracy: 0.9114 - val_loss: 0.7011 - val_accuracy: 0.4872\n",
            "Epoch 11/50\n",
            "5/5 [==============================] - 2s 395ms/step - loss: 0.2365 - accuracy: 0.9241 - val_loss: 0.7036 - val_accuracy: 0.4872\n",
            "Epoch 12/50\n",
            "5/5 [==============================] - 2s 397ms/step - loss: 0.2286 - accuracy: 0.9241 - val_loss: 0.7082 - val_accuracy: 0.4872\n",
            "Epoch 13/50\n",
            "5/5 [==============================] - 2s 400ms/step - loss: 0.1770 - accuracy: 0.9494 - val_loss: 0.7086 - val_accuracy: 0.4872\n",
            "Epoch 14/50\n",
            "5/5 [==============================] - 2s 390ms/step - loss: 0.1390 - accuracy: 0.9684 - val_loss: 0.7090 - val_accuracy: 0.4872\n",
            "Epoch 15/50\n",
            "5/5 [==============================] - 2s 385ms/step - loss: 0.2167 - accuracy: 0.9241 - val_loss: 0.7085 - val_accuracy: 0.4872\n",
            "Epoch 16/50\n",
            "5/5 [==============================] - 2s 411ms/step - loss: 0.2165 - accuracy: 0.9177 - val_loss: 0.7095 - val_accuracy: 0.4872\n",
            "Epoch 17/50\n",
            "5/5 [==============================] - 2s 388ms/step - loss: 0.1782 - accuracy: 0.9367 - val_loss: 0.7095 - val_accuracy: 0.4872\n",
            "Epoch 18/50\n",
            "5/5 [==============================] - 2s 401ms/step - loss: 0.3104 - accuracy: 0.8987 - val_loss: 0.6978 - val_accuracy: 0.4872\n",
            "Epoch 19/50\n",
            "5/5 [==============================] - 2s 391ms/step - loss: 0.2218 - accuracy: 0.9304 - val_loss: 0.6956 - val_accuracy: 0.4872\n",
            "Epoch 20/50\n",
            "5/5 [==============================] - 2s 393ms/step - loss: 0.2504 - accuracy: 0.9241 - val_loss: 0.6954 - val_accuracy: 0.4872\n",
            "Epoch 21/50\n",
            "5/5 [==============================] - 2s 404ms/step - loss: 0.1114 - accuracy: 0.9810 - val_loss: 0.6970 - val_accuracy: 0.4872\n",
            "Epoch 22/50\n",
            "5/5 [==============================] - 2s 390ms/step - loss: 0.0954 - accuracy: 0.9557 - val_loss: 0.6993 - val_accuracy: 0.4872\n",
            "Epoch 23/50\n",
            "5/5 [==============================] - 2s 390ms/step - loss: 0.1341 - accuracy: 0.9430 - val_loss: 0.7020 - val_accuracy: 0.4872\n",
            "Epoch 24/50\n",
            "5/5 [==============================] - 2s 396ms/step - loss: 0.1019 - accuracy: 0.9810 - val_loss: 0.6969 - val_accuracy: 0.4872\n",
            "Epoch 25/50\n",
            "5/5 [==============================] - 2s 398ms/step - loss: 0.0962 - accuracy: 0.9810 - val_loss: 0.6987 - val_accuracy: 0.4872\n",
            "Epoch 26/50\n",
            "5/5 [==============================] - 2s 396ms/step - loss: 0.2287 - accuracy: 0.9051 - val_loss: 0.6923 - val_accuracy: 0.4872\n",
            "Epoch 27/50\n",
            "5/5 [==============================] - 2s 393ms/step - loss: 0.1318 - accuracy: 0.9494 - val_loss: 0.6951 - val_accuracy: 0.4872\n",
            "Epoch 28/50\n",
            "5/5 [==============================] - 2s 398ms/step - loss: 0.1302 - accuracy: 0.9684 - val_loss: 0.7027 - val_accuracy: 0.4872\n",
            "Epoch 29/50\n",
            "5/5 [==============================] - 2s 394ms/step - loss: 0.1627 - accuracy: 0.9684 - val_loss: 0.7120 - val_accuracy: 0.4872\n",
            "Epoch 30/50\n",
            "5/5 [==============================] - 2s 401ms/step - loss: 0.0923 - accuracy: 0.9684 - val_loss: 0.7056 - val_accuracy: 0.4872\n",
            "Epoch 31/50\n",
            "5/5 [==============================] - 2s 393ms/step - loss: 0.0751 - accuracy: 0.9810 - val_loss: 0.7024 - val_accuracy: 0.4872\n",
            "Epoch 32/50\n",
            "5/5 [==============================] - 2s 397ms/step - loss: 0.0999 - accuracy: 0.9620 - val_loss: 0.7155 - val_accuracy: 0.4872\n",
            "Epoch 33/50\n",
            "5/5 [==============================] - 2s 402ms/step - loss: 0.1357 - accuracy: 0.9557 - val_loss: 0.6980 - val_accuracy: 0.4872\n",
            "Epoch 34/50\n",
            "5/5 [==============================] - 2s 398ms/step - loss: 0.0824 - accuracy: 0.9747 - val_loss: 0.6912 - val_accuracy: 0.5128\n",
            "Epoch 35/50\n",
            "5/5 [==============================] - 2s 398ms/step - loss: 0.2354 - accuracy: 0.9114 - val_loss: 0.6886 - val_accuracy: 0.5128\n",
            "Epoch 36/50\n",
            "5/5 [==============================] - 2s 397ms/step - loss: 0.1313 - accuracy: 0.9430 - val_loss: 0.6872 - val_accuracy: 0.5128\n",
            "Epoch 37/50\n",
            "5/5 [==============================] - 2s 398ms/step - loss: 0.0722 - accuracy: 0.9620 - val_loss: 0.6860 - val_accuracy: 0.5128\n",
            "Epoch 38/50\n",
            "5/5 [==============================] - 2s 402ms/step - loss: 0.1033 - accuracy: 0.9494 - val_loss: 0.6870 - val_accuracy: 0.5897\n",
            "Epoch 39/50\n",
            "5/5 [==============================] - 2s 399ms/step - loss: 0.0804 - accuracy: 0.9684 - val_loss: 0.6910 - val_accuracy: 0.5128\n",
            "Epoch 40/50\n",
            "5/5 [==============================] - 2s 397ms/step - loss: 0.1105 - accuracy: 0.9620 - val_loss: 0.6901 - val_accuracy: 0.4872\n",
            "Epoch 41/50\n",
            "5/5 [==============================] - 2s 404ms/step - loss: 0.2005 - accuracy: 0.9177 - val_loss: 0.6850 - val_accuracy: 0.5385\n",
            "Epoch 42/50\n",
            "5/5 [==============================] - 2s 398ms/step - loss: 0.1701 - accuracy: 0.9430 - val_loss: 0.6818 - val_accuracy: 0.6923\n",
            "Epoch 43/50\n",
            "5/5 [==============================] - 2s 398ms/step - loss: 0.1203 - accuracy: 0.9684 - val_loss: 0.6896 - val_accuracy: 0.5128\n",
            "Epoch 44/50\n",
            "5/5 [==============================] - 2s 398ms/step - loss: 0.1198 - accuracy: 0.9620 - val_loss: 0.6930 - val_accuracy: 0.5128\n",
            "Epoch 45/50\n",
            "5/5 [==============================] - 2s 412ms/step - loss: 0.0843 - accuracy: 0.9747 - val_loss: 0.7012 - val_accuracy: 0.5128\n",
            "Epoch 46/50\n",
            "5/5 [==============================] - 2s 399ms/step - loss: 0.0742 - accuracy: 0.9747 - val_loss: 0.7041 - val_accuracy: 0.5128\n",
            "Epoch 47/50\n",
            "5/5 [==============================] - 2s 407ms/step - loss: 0.0524 - accuracy: 0.9810 - val_loss: 0.7077 - val_accuracy: 0.4872\n",
            "Epoch 48/50\n",
            "5/5 [==============================] - 2s 396ms/step - loss: 0.0600 - accuracy: 0.9810 - val_loss: 0.7065 - val_accuracy: 0.5128\n",
            "Epoch 49/50\n",
            "5/5 [==============================] - 2s 400ms/step - loss: 0.0603 - accuracy: 0.9873 - val_loss: 0.6798 - val_accuracy: 0.5128\n",
            "Epoch 50/50\n",
            "5/5 [==============================] - 2s 396ms/step - loss: 0.0394 - accuracy: 0.9873 - val_loss: 0.6866 - val_accuracy: 0.5385\n"
          ],
          "name": "stdout"
        },
        {
          "output_type": "execute_result",
          "data": {
            "text/plain": [
              "<tensorflow.python.keras.callbacks.History at 0x7fa0286dea10>"
            ]
          },
          "metadata": {
            "tags": []
          },
          "execution_count": 7
        }
      ]
    },
    {
      "cell_type": "code",
      "metadata": {
        "id": "QkY_PcNA93dl",
        "colab": {
          "base_uri": "https://localhost:8080/",
          "height": 374
        },
        "outputId": "68771c22-dfca-4a9a-df8a-7f10defe67fa"
      },
      "source": [
        "img = keras.preprocessing.image.load_img(\n",
        "    \"/content/drive/MyDrive/2588705_1_articlelarge_basmati_rice_iStock-186835225.jpg\", target_size=image_size\n",
        ")\n",
        "img_array = keras.preprocessing.image.img_to_array(img)\n",
        "img_array = tf.expand_dims(img_array, 0)\n",
        "\n",
        "predictions = model.predict(img_array)\n",
        "score = predictions[0]\n",
        "print(\n",
        "    \"This image is %.2f percent rice and %.2f percent not rice.\"\n",
        "    % (100 * (1 - score), 100 * score)\n",
        ")"
      ],
      "execution_count": 3,
      "outputs": [
        {
          "output_type": "error",
          "ename": "TclError",
          "evalue": "ignored",
          "traceback": [
            "\u001b[0;31m---------------------------------------------------------------------------\u001b[0m",
            "\u001b[0;31mTclError\u001b[0m                                  Traceback (most recent call last)",
            "\u001b[0;32m<ipython-input-3-ba5b66aff5a7>\u001b[0m in \u001b[0;36m<module>\u001b[0;34m()\u001b[0m\n\u001b[0;32m----> 1\u001b[0;31m \u001b[0mpath\u001b[0m \u001b[0;34m=\u001b[0m \u001b[0maskdirectory\u001b[0m\u001b[0;34m(\u001b[0m\u001b[0mtitle\u001b[0m\u001b[0;34m=\u001b[0m\u001b[0;34m'Select Folder'\u001b[0m\u001b[0;34m)\u001b[0m\u001b[0;34m\u001b[0m\u001b[0;34m\u001b[0m\u001b[0m\n\u001b[0m\u001b[1;32m      2\u001b[0m \u001b[0;34m\u001b[0m\u001b[0m\n\u001b[1;32m      3\u001b[0m img = keras.preprocessing.image.load_img(path, target_size=image_size\n\u001b[1;32m      4\u001b[0m )\n\u001b[1;32m      5\u001b[0m \u001b[0mimg_array\u001b[0m \u001b[0;34m=\u001b[0m \u001b[0mkeras\u001b[0m\u001b[0;34m.\u001b[0m\u001b[0mpreprocessing\u001b[0m\u001b[0;34m.\u001b[0m\u001b[0mimage\u001b[0m\u001b[0;34m.\u001b[0m\u001b[0mimg_to_array\u001b[0m\u001b[0;34m(\u001b[0m\u001b[0mimg\u001b[0m\u001b[0;34m)\u001b[0m\u001b[0;34m\u001b[0m\u001b[0;34m\u001b[0m\u001b[0m\n",
            "\u001b[0;32m/usr/lib/python3.7/tkinter/filedialog.py\u001b[0m in \u001b[0;36maskdirectory\u001b[0;34m(**options)\u001b[0m\n\u001b[1;32m    426\u001b[0m \u001b[0;32mdef\u001b[0m \u001b[0maskdirectory\u001b[0m \u001b[0;34m(\u001b[0m\u001b[0;34m**\u001b[0m\u001b[0moptions\u001b[0m\u001b[0;34m)\u001b[0m\u001b[0;34m:\u001b[0m\u001b[0;34m\u001b[0m\u001b[0;34m\u001b[0m\u001b[0m\n\u001b[1;32m    427\u001b[0m     \u001b[0;34m\"Ask for a directory, and return the file name\"\u001b[0m\u001b[0;34m\u001b[0m\u001b[0;34m\u001b[0m\u001b[0m\n\u001b[0;32m--> 428\u001b[0;31m     \u001b[0;32mreturn\u001b[0m \u001b[0mDirectory\u001b[0m\u001b[0;34m(\u001b[0m\u001b[0;34m**\u001b[0m\u001b[0moptions\u001b[0m\u001b[0;34m)\u001b[0m\u001b[0;34m.\u001b[0m\u001b[0mshow\u001b[0m\u001b[0;34m(\u001b[0m\u001b[0;34m)\u001b[0m\u001b[0;34m\u001b[0m\u001b[0;34m\u001b[0m\u001b[0m\n\u001b[0m\u001b[1;32m    429\u001b[0m \u001b[0;34m\u001b[0m\u001b[0m\n\u001b[1;32m    430\u001b[0m \u001b[0;34m\u001b[0m\u001b[0m\n",
            "\u001b[0;32m/usr/lib/python3.7/tkinter/commondialog.py\u001b[0m in \u001b[0;36mshow\u001b[0;34m(self, **options)\u001b[0m\n\u001b[1;32m     37\u001b[0m         \u001b[0;31m# we need a dummy widget to properly process the options\u001b[0m\u001b[0;34m\u001b[0m\u001b[0;34m\u001b[0m\u001b[0;34m\u001b[0m\u001b[0m\n\u001b[1;32m     38\u001b[0m         \u001b[0;31m# (at least as long as we use Tkinter 1.63)\u001b[0m\u001b[0;34m\u001b[0m\u001b[0;34m\u001b[0m\u001b[0;34m\u001b[0m\u001b[0m\n\u001b[0;32m---> 39\u001b[0;31m         \u001b[0mw\u001b[0m \u001b[0;34m=\u001b[0m \u001b[0mFrame\u001b[0m\u001b[0;34m(\u001b[0m\u001b[0mself\u001b[0m\u001b[0;34m.\u001b[0m\u001b[0mmaster\u001b[0m\u001b[0;34m)\u001b[0m\u001b[0;34m\u001b[0m\u001b[0;34m\u001b[0m\u001b[0m\n\u001b[0m\u001b[1;32m     40\u001b[0m \u001b[0;34m\u001b[0m\u001b[0m\n\u001b[1;32m     41\u001b[0m         \u001b[0;32mtry\u001b[0m\u001b[0;34m:\u001b[0m\u001b[0;34m\u001b[0m\u001b[0;34m\u001b[0m\u001b[0m\n",
            "\u001b[0;32m/usr/lib/python3.7/tkinter/__init__.py\u001b[0m in \u001b[0;36m__init__\u001b[0;34m(self, master, cnf, **kw)\u001b[0m\n\u001b[1;32m   2742\u001b[0m             \u001b[0mextra\u001b[0m \u001b[0;34m=\u001b[0m \u001b[0;34m(\u001b[0m\u001b[0;34m'-class'\u001b[0m\u001b[0;34m,\u001b[0m \u001b[0mcnf\u001b[0m\u001b[0;34m[\u001b[0m\u001b[0;34m'class'\u001b[0m\u001b[0;34m]\u001b[0m\u001b[0;34m)\u001b[0m\u001b[0;34m\u001b[0m\u001b[0;34m\u001b[0m\u001b[0m\n\u001b[1;32m   2743\u001b[0m             \u001b[0;32mdel\u001b[0m \u001b[0mcnf\u001b[0m\u001b[0;34m[\u001b[0m\u001b[0;34m'class'\u001b[0m\u001b[0;34m]\u001b[0m\u001b[0;34m\u001b[0m\u001b[0;34m\u001b[0m\u001b[0m\n\u001b[0;32m-> 2744\u001b[0;31m         \u001b[0mWidget\u001b[0m\u001b[0;34m.\u001b[0m\u001b[0m__init__\u001b[0m\u001b[0;34m(\u001b[0m\u001b[0mself\u001b[0m\u001b[0;34m,\u001b[0m \u001b[0mmaster\u001b[0m\u001b[0;34m,\u001b[0m \u001b[0;34m'frame'\u001b[0m\u001b[0;34m,\u001b[0m \u001b[0mcnf\u001b[0m\u001b[0;34m,\u001b[0m \u001b[0;34m{\u001b[0m\u001b[0;34m}\u001b[0m\u001b[0;34m,\u001b[0m \u001b[0mextra\u001b[0m\u001b[0;34m)\u001b[0m\u001b[0;34m\u001b[0m\u001b[0;34m\u001b[0m\u001b[0m\n\u001b[0m\u001b[1;32m   2745\u001b[0m \u001b[0;34m\u001b[0m\u001b[0m\n\u001b[1;32m   2746\u001b[0m \u001b[0;32mclass\u001b[0m \u001b[0mLabel\u001b[0m\u001b[0;34m(\u001b[0m\u001b[0mWidget\u001b[0m\u001b[0;34m)\u001b[0m\u001b[0;34m:\u001b[0m\u001b[0;34m\u001b[0m\u001b[0;34m\u001b[0m\u001b[0m\n",
            "\u001b[0;32m/usr/lib/python3.7/tkinter/__init__.py\u001b[0m in \u001b[0;36m__init__\u001b[0;34m(self, master, widgetName, cnf, kw, extra)\u001b[0m\n\u001b[1;32m   2290\u001b[0m             \u001b[0mcnf\u001b[0m \u001b[0;34m=\u001b[0m \u001b[0m_cnfmerge\u001b[0m\u001b[0;34m(\u001b[0m\u001b[0;34m(\u001b[0m\u001b[0mcnf\u001b[0m\u001b[0;34m,\u001b[0m \u001b[0mkw\u001b[0m\u001b[0;34m)\u001b[0m\u001b[0;34m)\u001b[0m\u001b[0;34m\u001b[0m\u001b[0;34m\u001b[0m\u001b[0m\n\u001b[1;32m   2291\u001b[0m         \u001b[0mself\u001b[0m\u001b[0;34m.\u001b[0m\u001b[0mwidgetName\u001b[0m \u001b[0;34m=\u001b[0m \u001b[0mwidgetName\u001b[0m\u001b[0;34m\u001b[0m\u001b[0;34m\u001b[0m\u001b[0m\n\u001b[0;32m-> 2292\u001b[0;31m         \u001b[0mBaseWidget\u001b[0m\u001b[0;34m.\u001b[0m\u001b[0m_setup\u001b[0m\u001b[0;34m(\u001b[0m\u001b[0mself\u001b[0m\u001b[0;34m,\u001b[0m \u001b[0mmaster\u001b[0m\u001b[0;34m,\u001b[0m \u001b[0mcnf\u001b[0m\u001b[0;34m)\u001b[0m\u001b[0;34m\u001b[0m\u001b[0;34m\u001b[0m\u001b[0m\n\u001b[0m\u001b[1;32m   2293\u001b[0m         \u001b[0;32mif\u001b[0m \u001b[0mself\u001b[0m\u001b[0;34m.\u001b[0m\u001b[0m_tclCommands\u001b[0m \u001b[0;32mis\u001b[0m \u001b[0;32mNone\u001b[0m\u001b[0;34m:\u001b[0m\u001b[0;34m\u001b[0m\u001b[0;34m\u001b[0m\u001b[0m\n\u001b[1;32m   2294\u001b[0m             \u001b[0mself\u001b[0m\u001b[0;34m.\u001b[0m\u001b[0m_tclCommands\u001b[0m \u001b[0;34m=\u001b[0m \u001b[0;34m[\u001b[0m\u001b[0;34m]\u001b[0m\u001b[0;34m\u001b[0m\u001b[0;34m\u001b[0m\u001b[0m\n",
            "\u001b[0;32m/usr/lib/python3.7/tkinter/__init__.py\u001b[0m in \u001b[0;36m_setup\u001b[0;34m(self, master, cnf)\u001b[0m\n\u001b[1;32m   2257\u001b[0m             \u001b[0;32mif\u001b[0m \u001b[0;32mnot\u001b[0m \u001b[0mmaster\u001b[0m\u001b[0;34m:\u001b[0m\u001b[0;34m\u001b[0m\u001b[0;34m\u001b[0m\u001b[0m\n\u001b[1;32m   2258\u001b[0m                 \u001b[0;32mif\u001b[0m \u001b[0;32mnot\u001b[0m \u001b[0m_default_root\u001b[0m\u001b[0;34m:\u001b[0m\u001b[0;34m\u001b[0m\u001b[0;34m\u001b[0m\u001b[0m\n\u001b[0;32m-> 2259\u001b[0;31m                     \u001b[0m_default_root\u001b[0m \u001b[0;34m=\u001b[0m \u001b[0mTk\u001b[0m\u001b[0;34m(\u001b[0m\u001b[0;34m)\u001b[0m\u001b[0;34m\u001b[0m\u001b[0;34m\u001b[0m\u001b[0m\n\u001b[0m\u001b[1;32m   2260\u001b[0m                 \u001b[0mmaster\u001b[0m \u001b[0;34m=\u001b[0m \u001b[0m_default_root\u001b[0m\u001b[0;34m\u001b[0m\u001b[0;34m\u001b[0m\u001b[0m\n\u001b[1;32m   2261\u001b[0m         \u001b[0mself\u001b[0m\u001b[0;34m.\u001b[0m\u001b[0mmaster\u001b[0m \u001b[0;34m=\u001b[0m \u001b[0mmaster\u001b[0m\u001b[0;34m\u001b[0m\u001b[0;34m\u001b[0m\u001b[0m\n",
            "\u001b[0;32m/usr/lib/python3.7/tkinter/__init__.py\u001b[0m in \u001b[0;36m__init__\u001b[0;34m(self, screenName, baseName, className, useTk, sync, use)\u001b[0m\n\u001b[1;32m   2021\u001b[0m                 \u001b[0mbaseName\u001b[0m \u001b[0;34m=\u001b[0m \u001b[0mbaseName\u001b[0m \u001b[0;34m+\u001b[0m \u001b[0mext\u001b[0m\u001b[0;34m\u001b[0m\u001b[0;34m\u001b[0m\u001b[0m\n\u001b[1;32m   2022\u001b[0m         \u001b[0minteractive\u001b[0m \u001b[0;34m=\u001b[0m \u001b[0;36m0\u001b[0m\u001b[0;34m\u001b[0m\u001b[0;34m\u001b[0m\u001b[0m\n\u001b[0;32m-> 2023\u001b[0;31m         \u001b[0mself\u001b[0m\u001b[0;34m.\u001b[0m\u001b[0mtk\u001b[0m \u001b[0;34m=\u001b[0m \u001b[0m_tkinter\u001b[0m\u001b[0;34m.\u001b[0m\u001b[0mcreate\u001b[0m\u001b[0;34m(\u001b[0m\u001b[0mscreenName\u001b[0m\u001b[0;34m,\u001b[0m \u001b[0mbaseName\u001b[0m\u001b[0;34m,\u001b[0m \u001b[0mclassName\u001b[0m\u001b[0;34m,\u001b[0m \u001b[0minteractive\u001b[0m\u001b[0;34m,\u001b[0m \u001b[0mwantobjects\u001b[0m\u001b[0;34m,\u001b[0m \u001b[0museTk\u001b[0m\u001b[0;34m,\u001b[0m \u001b[0msync\u001b[0m\u001b[0;34m,\u001b[0m \u001b[0muse\u001b[0m\u001b[0;34m)\u001b[0m\u001b[0;34m\u001b[0m\u001b[0;34m\u001b[0m\u001b[0m\n\u001b[0m\u001b[1;32m   2024\u001b[0m         \u001b[0;32mif\u001b[0m \u001b[0museTk\u001b[0m\u001b[0;34m:\u001b[0m\u001b[0;34m\u001b[0m\u001b[0;34m\u001b[0m\u001b[0m\n\u001b[1;32m   2025\u001b[0m             \u001b[0mself\u001b[0m\u001b[0;34m.\u001b[0m\u001b[0m_loadtk\u001b[0m\u001b[0;34m(\u001b[0m\u001b[0;34m)\u001b[0m\u001b[0;34m\u001b[0m\u001b[0;34m\u001b[0m\u001b[0m\n",
            "\u001b[0;31mTclError\u001b[0m: no display name and no $DISPLAY environment variable"
          ]
        }
      ]
    }
  ]
}