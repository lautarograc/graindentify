{
 "cells": [
  {
   "cell_type": "code",
   "execution_count": 32,
   "source": [
    "import selenium\r\n",
    "from selenium import webdriver"
   ],
   "outputs": [],
   "metadata": {}
  },
  {
   "cell_type": "code",
   "execution_count": 33,
   "source": [
    "chromedriver = \"C:/Users/Lautarog/Documents/GRAINDENTIFY/scrapper/chromedriver\"\r\n",
    "driver = webdriver.Chrome(chromedriver)\r\n"
   ],
   "outputs": [],
   "metadata": {}
  },
  {
   "cell_type": "code",
   "execution_count": null,
   "source": [
    "def find_image_link(query:str, max_links_to_find:int, driver:webdriver, sleep_between_interactions:int=1):\r\n",
    "    def scroll_to_end(driver):\r\n",
    "        driver.execute_script(\"window.scrollTo(0, document.body.scrollHeight);\")\r\n",
    "        time.sleep(sleep_between_interactions)\r\n"
   ],
   "outputs": [],
   "metadata": {}
  }
 ],
 "metadata": {
  "orig_nbformat": 4,
  "language_info": {
   "name": "python",
   "version": "3.9.4",
   "mimetype": "text/x-python",
   "codemirror_mode": {
    "name": "ipython",
    "version": 3
   },
   "pygments_lexer": "ipython3",
   "nbconvert_exporter": "python",
   "file_extension": ".py"
  },
  "kernelspec": {
   "name": "python3",
   "display_name": "Python 3.9.4 64-bit"
  },
  "interpreter": {
   "hash": "63fd5069d213b44bf678585dea6b12cceca9941eaf7f819626cde1f2670de90d"
  }
 },
 "nbformat": 4,
 "nbformat_minor": 2
}