{
 "cells": [
  {
   "cell_type": "code",
   "execution_count": null,
   "source": [
    "import os\r\n",
    "import selenium\r\n",
    "from selenium import webdriver\r\n",
    "import time\r\n",
    "import requests\r\n",
    "import io\r\n",
    "from PIL import Image\r\n",
    "import hashlib"
   ],
   "outputs": [],
   "metadata": {}
  },
  {
   "cell_type": "code",
   "execution_count": null,
   "source": [
    "#Initialize the chrome driver for selenium\r\n",
    "DRIVER_PATH = input('Where is the chrome driver located? Enter complete path')\r\n",
    "wd = webdriver.Chrome(executable_path=DRIVER_PATH)"
   ],
   "outputs": [],
   "metadata": {}
  },
  {
   "cell_type": "code",
   "execution_count": null,
   "source": [
    "def fetch_image_urls(query:str, max_links_to_fetch:int, wd:webdriver, sleep_between_interactions:int=1):\r\n",
    "    def scroll_to_end(wd):\r\n",
    "        wd.execute_script(\"window.scrollTo(0, document.body.scrollHeight);\")\r\n",
    "        time.sleep(sleep_between_interactions)    \r\n",
    "    \r\n",
    "    # build the google query\r\n",
    "    search_url = \"https://www.google.com/search?safe=off&site=&tbm=isch&source=hp&q={q}&oq={q}&gs_l=img\"\r\n",
    "\r\n",
    "    # load the page\r\n",
    "    wd.get(search_url.format(q=query))\r\n",
    "\r\n",
    "    image_urls = set()\r\n",
    "    image_count = 0\r\n",
    "    results_start = 0\r\n",
    "    while image_count < max_links_to_fetch:\r\n",
    "        scroll_to_end(wd)\r\n",
    "        thumbnail_results = wd.find_elements_by_css_selector(\"img.Q4LuWd\")\r\n",
    "        number_results = len(thumbnail_results)\r\n",
    "        \r\n",
    "        print(f\"Found: {number_results} search results. Extracting links from {results_start}:{number_results}\")\r\n",
    "        \r\n",
    "        for img in thumbnail_results[results_start:number_results]:\r\n",
    "            # try to click every thumbnail such that we can get the real image behind it\r\n",
    "            try:\r\n",
    "                img.click()\r\n",
    "                time.sleep(sleep_between_interactions)\r\n",
    "            except Exception:\r\n",
    "                continue\r\n",
    "\r\n",
    "            # extract image urls    \r\n",
    "            actual_images = wd.find_elements_by_css_selector('img.n3VNCb')\r\n",
    "            for actual_image in actual_images:\r\n",
    "                if actual_image.get_attribute('src') and 'http' in actual_image.get_attribute('src'):\r\n",
    "                    image_urls.add(actual_image.get_attribute('src'))\r\n",
    "\r\n",
    "            image_count = len(image_urls)\r\n",
    "\r\n",
    "            if len(image_urls) >= max_links_to_fetch:\r\n",
    "                print(f\"Found: {len(image_urls)} image links, done!\")\r\n",
    "                break\r\n",
    "        else:\r\n",
    "            print(\"Found:\", len(image_urls), \"image links, looking for more ...\")\r\n",
    "            time.sleep(30)\r\n",
    "            return\r\n",
    "            load_more_button = wd.find_element_by_css_selector(\".mye4qd\")\r\n",
    "            if load_more_button:\r\n",
    "                wd.execute_script(\"document.querySelector('.mye4qd').click();\")\r\n",
    "\r\n",
    "        # move the result startpoint further down\r\n",
    "        results_start = len(thumbnail_results)\r\n",
    "\r\n",
    "    return image_urls"
   ],
   "outputs": [],
   "metadata": {}
  },
  {
   "cell_type": "code",
   "execution_count": null,
   "source": [
    "def persist_image(folder_path:str,url:str):\r\n",
    "    try:\r\n",
    "        image_content = requests.get(url).content\r\n",
    "\r\n",
    "    except Exception as e:\r\n",
    "        print(f\"ERROR - Could not download {url} - {e}\")\r\n",
    "\r\n",
    "    try:\r\n",
    "        image_file = io.BytesIO(image_content)\r\n",
    "        image = Image.open(image_file).convert('RGB')\r\n",
    "        file_path = os.path.join(folder_path,hashlib.sha1(image_content).hexdigest()[:10] + '.jpg')\r\n",
    "        with open(file_path, 'wb') as f:\r\n",
    "            image.save(f, \"JPEG\", quality=85)\r\n",
    "        print(f\"SUCCESS - saved {url} - as {file_path}\")\r\n",
    "    except Exception as e:\r\n",
    "        print(f\"ERROR - Could not save {url} - {e}\")"
   ],
   "outputs": [],
   "metadata": {}
  },
  {
   "cell_type": "code",
   "execution_count": null,
   "source": [
    "def search_and_download(search_term:str,driver_path:str,target_path='./images',number_images=5):\r\n",
    "    target_folder = os.path.join(target_path,'_'.join(search_term.lower().split(' ')))\r\n",
    "\r\n",
    "    if not os.path.exists(target_folder):\r\n",
    "        os.makedirs(target_folder)\r\n",
    "\r\n",
    "    with webdriver.Chrome(executable_path=driver_path) as wd:\r\n",
    "        res = fetch_image_urls(search_term, number_images, wd=wd, sleep_between_interactions=0.5)\r\n",
    "    if res:\r\n",
    "        for elem in res:\r\n",
    "            persist_image(target_folder,elem)"
   ],
   "outputs": [],
   "metadata": {}
  },
  {
   "cell_type": "code",
   "execution_count": null,
   "source": [
    "search_term = 'fresh wheat grain'\r\n",
    "\r\n",
    "search_and_download(\r\n",
    "    search_term=search_term,\r\n",
    "    driver_path=DRIVER_PATH\r\n",
    ")"
   ],
   "outputs": [],
   "metadata": {}
  },
  {
   "cell_type": "code",
   "execution_count": null,
   "source": [
    "#I'll create a loop to standarize names and convert every extension to JPG\r\n",
    "ext = ('.jpg')\r\n",
    "path = os.path.join(os.getcwd(),'images','_'.join(search_term.lower().split(' ')))\r\n",
    "\r\n",
    "#Rename every datapoint to the format \"str1,2,3,...,n\" and append desired extension\r\n",
    "def file_rename():\r\n",
    "    count = 1\r\n",
    "    for files in os.listdir(path):\r\n",
    "        source = path + '\\\\' + files\r\n",
    "        destination = path + '\\\\' + search_term + str(count) + ext\r\n",
    "        os.rename(source, destination)\r\n",
    "        count += 1\r\n",
    "file_rename()\r\n"
   ],
   "outputs": [],
   "metadata": {}
  }
 ],
 "metadata": {
  "orig_nbformat": 4,
  "language_info": {
   "name": "python",
   "version": "3.9.4",
   "mimetype": "text/x-python",
   "codemirror_mode": {
    "name": "ipython",
    "version": 3
   },
   "pygments_lexer": "ipython3",
   "nbconvert_exporter": "python",
   "file_extension": ".py"
  },
  "kernelspec": {
   "name": "python3",
   "display_name": "Python 3.9.4 64-bit"
  },
  "interpreter": {
   "hash": "63fd5069d213b44bf678585dea6b12cceca9941eaf7f819626cde1f2670de90d"
  }
 },
 "nbformat": 4,
 "nbformat_minor": 2
}